{
 "cells": [
  {
   "cell_type": "code",
   "execution_count": 1,
   "id": "d267457d-7f94-4b0d-bd06-47e7cf0e0b95",
   "metadata": {},
   "outputs": [
    {
     "name": "stderr",
     "output_type": "stream",
     "text": [
      "WARNING: Ignoring invalid distribution ~ransformers (C:\\hp\\anaconda3\\Lib\\site-packages)\n",
      "WARNING: Ignoring invalid distribution ~ransformers (C:\\hp\\anaconda3\\Lib\\site-packages)\n",
      "WARNING: Ignoring invalid distribution ~ransformers (C:\\hp\\anaconda3\\Lib\\site-packages)\n"
     ]
    }
   ],
   "source": [
    "!pip install -q torch datasets transformers scikit-learn accelerate pandas"
   ]
  },
  {
   "cell_type": "code",
   "execution_count": 2,
   "id": "957f6027-1309-4c67-a900-57b1cd888324",
   "metadata": {},
   "outputs": [
    {
     "name": "stdout",
     "output_type": "stream",
     "text": [
      "Requirement already satisfied: transformers>=4.40 in c:\\hp\\anaconda3\\lib\\site-packages (4.55.0)\n",
      "Requirement already satisfied: datasets>=2.19 in c:\\hp\\anaconda3\\lib\\site-packages (4.0.0)\n",
      "Requirement already satisfied: accelerate>=0.30 in c:\\hp\\anaconda3\\lib\\site-packages (1.10.0)\n",
      "Requirement already satisfied: filelock in c:\\hp\\anaconda3\\lib\\site-packages (from transformers>=4.40) (3.13.1)\n",
      "Requirement already satisfied: huggingface-hub<1.0,>=0.34.0 in c:\\hp\\anaconda3\\lib\\site-packages (from transformers>=4.40) (0.34.3)\n",
      "Requirement already satisfied: numpy>=1.17 in c:\\hp\\anaconda3\\lib\\site-packages (from transformers>=4.40) (1.26.4)\n",
      "Requirement already satisfied: packaging>=20.0 in c:\\hp\\anaconda3\\lib\\site-packages (from transformers>=4.40) (24.1)\n",
      "Requirement already satisfied: pyyaml>=5.1 in c:\\hp\\anaconda3\\lib\\site-packages (from transformers>=4.40) (6.0.1)\n",
      "Requirement already satisfied: regex!=2019.12.17 in c:\\hp\\anaconda3\\lib\\site-packages (from transformers>=4.40) (2024.9.11)\n",
      "Requirement already satisfied: requests in c:\\hp\\anaconda3\\lib\\site-packages (from transformers>=4.40) (2.32.3)\n",
      "Requirement already satisfied: tokenizers<0.22,>=0.21 in c:\\hp\\anaconda3\\lib\\site-packages (from transformers>=4.40) (0.21.1)\n",
      "Requirement already satisfied: safetensors>=0.4.3 in c:\\hp\\anaconda3\\lib\\site-packages (from transformers>=4.40) (0.5.3)\n",
      "Requirement already satisfied: tqdm>=4.27 in c:\\hp\\anaconda3\\lib\\site-packages (from transformers>=4.40) (4.66.5)\n",
      "Requirement already satisfied: pyarrow>=15.0.0 in c:\\hp\\anaconda3\\lib\\site-packages (from datasets>=2.19) (16.1.0)\n",
      "Requirement already satisfied: dill<0.3.9,>=0.3.0 in c:\\hp\\anaconda3\\lib\\site-packages (from datasets>=2.19) (0.3.8)\n",
      "Requirement already satisfied: pandas in c:\\hp\\anaconda3\\lib\\site-packages (from datasets>=2.19) (2.2.2)\n",
      "Requirement already satisfied: xxhash in c:\\hp\\anaconda3\\lib\\site-packages (from datasets>=2.19) (3.5.0)\n",
      "Requirement already satisfied: multiprocess<0.70.17 in c:\\hp\\anaconda3\\lib\\site-packages (from datasets>=2.19) (0.70.16)\n",
      "Requirement already satisfied: fsspec<=2025.3.0,>=2023.1.0 in c:\\hp\\anaconda3\\lib\\site-packages (from fsspec[http]<=2025.3.0,>=2023.1.0->datasets>=2.19) (2024.6.1)\n",
      "Requirement already satisfied: psutil in c:\\hp\\anaconda3\\lib\\site-packages (from accelerate>=0.30) (5.9.0)\n",
      "Requirement already satisfied: torch>=2.0.0 in c:\\hp\\anaconda3\\lib\\site-packages (from accelerate>=0.30) (2.7.1)\n",
      "Requirement already satisfied: aiohttp!=4.0.0a0,!=4.0.0a1 in c:\\hp\\anaconda3\\lib\\site-packages (from fsspec[http]<=2025.3.0,>=2023.1.0->datasets>=2.19) (3.10.5)\n",
      "Requirement already satisfied: typing-extensions>=3.7.4.3 in c:\\hp\\anaconda3\\lib\\site-packages (from huggingface-hub<1.0,>=0.34.0->transformers>=4.40) (4.11.0)\n",
      "Requirement already satisfied: charset-normalizer<4,>=2 in c:\\hp\\anaconda3\\lib\\site-packages (from requests->transformers>=4.40) (3.3.2)\n",
      "Requirement already satisfied: idna<4,>=2.5 in c:\\hp\\anaconda3\\lib\\site-packages (from requests->transformers>=4.40) (3.7)\n",
      "Requirement already satisfied: urllib3<3,>=1.21.1 in c:\\hp\\anaconda3\\lib\\site-packages (from requests->transformers>=4.40) (2.2.3)\n",
      "Requirement already satisfied: certifi>=2017.4.17 in c:\\hp\\anaconda3\\lib\\site-packages (from requests->transformers>=4.40) (2025.1.31)\n",
      "Requirement already satisfied: sympy>=1.13.3 in c:\\hp\\anaconda3\\lib\\site-packages (from torch>=2.0.0->accelerate>=0.30) (1.14.0)\n",
      "Requirement already satisfied: networkx in c:\\hp\\anaconda3\\lib\\site-packages (from torch>=2.0.0->accelerate>=0.30) (3.3)\n",
      "Requirement already satisfied: jinja2 in c:\\hp\\anaconda3\\lib\\site-packages (from torch>=2.0.0->accelerate>=0.30) (3.1.4)\n",
      "Requirement already satisfied: setuptools in c:\\hp\\anaconda3\\lib\\site-packages (from torch>=2.0.0->accelerate>=0.30) (75.1.0)\n",
      "Requirement already satisfied: colorama in c:\\hp\\anaconda3\\lib\\site-packages (from tqdm>=4.27->transformers>=4.40) (0.4.6)\n",
      "Requirement already satisfied: python-dateutil>=2.8.2 in c:\\hp\\anaconda3\\lib\\site-packages (from pandas->datasets>=2.19) (2.9.0.post0)\n",
      "Requirement already satisfied: pytz>=2020.1 in c:\\hp\\anaconda3\\lib\\site-packages (from pandas->datasets>=2.19) (2024.1)\n",
      "Requirement already satisfied: tzdata>=2022.7 in c:\\hp\\anaconda3\\lib\\site-packages (from pandas->datasets>=2.19) (2023.3)\n",
      "Requirement already satisfied: aiohappyeyeballs>=2.3.0 in c:\\hp\\anaconda3\\lib\\site-packages (from aiohttp!=4.0.0a0,!=4.0.0a1->fsspec[http]<=2025.3.0,>=2023.1.0->datasets>=2.19) (2.4.0)\n",
      "Requirement already satisfied: aiosignal>=1.1.2 in c:\\hp\\anaconda3\\lib\\site-packages (from aiohttp!=4.0.0a0,!=4.0.0a1->fsspec[http]<=2025.3.0,>=2023.1.0->datasets>=2.19) (1.2.0)\n",
      "Requirement already satisfied: attrs>=17.3.0 in c:\\hp\\anaconda3\\lib\\site-packages (from aiohttp!=4.0.0a0,!=4.0.0a1->fsspec[http]<=2025.3.0,>=2023.1.0->datasets>=2.19) (23.1.0)\n",
      "Requirement already satisfied: frozenlist>=1.1.1 in c:\\hp\\anaconda3\\lib\\site-packages (from aiohttp!=4.0.0a0,!=4.0.0a1->fsspec[http]<=2025.3.0,>=2023.1.0->datasets>=2.19) (1.4.0)\n",
      "Requirement already satisfied: multidict<7.0,>=4.5 in c:\\hp\\anaconda3\\lib\\site-packages (from aiohttp!=4.0.0a0,!=4.0.0a1->fsspec[http]<=2025.3.0,>=2023.1.0->datasets>=2.19) (6.0.4)\n",
      "Requirement already satisfied: yarl<2.0,>=1.0 in c:\\hp\\anaconda3\\lib\\site-packages (from aiohttp!=4.0.0a0,!=4.0.0a1->fsspec[http]<=2025.3.0,>=2023.1.0->datasets>=2.19) (1.11.0)\n",
      "Requirement already satisfied: six>=1.5 in c:\\hp\\anaconda3\\lib\\site-packages (from python-dateutil>=2.8.2->pandas->datasets>=2.19) (1.16.0)\n",
      "Requirement already satisfied: mpmath<1.4,>=1.1.0 in c:\\hp\\anaconda3\\lib\\site-packages (from sympy>=1.13.3->torch>=2.0.0->accelerate>=0.30) (1.3.0)\n",
      "Requirement already satisfied: MarkupSafe>=2.0 in c:\\hp\\anaconda3\\lib\\site-packages (from jinja2->torch>=2.0.0->accelerate>=0.30) (2.1.3)\n"
     ]
    },
    {
     "name": "stderr",
     "output_type": "stream",
     "text": [
      "WARNING: Ignoring invalid distribution ~ransformers (C:\\hp\\anaconda3\\Lib\\site-packages)\n",
      "WARNING: Ignoring invalid distribution ~ransformers (C:\\hp\\anaconda3\\Lib\\site-packages)\n",
      "WARNING: Ignoring invalid distribution ~ransformers (C:\\hp\\anaconda3\\Lib\\site-packages)\n"
     ]
    }
   ],
   "source": [
    "!pip install -U \"transformers>=4.40\" \"datasets>=2.19\" \"accelerate>=0.30\"\n"
   ]
  },
  {
   "cell_type": "code",
   "execution_count": 3,
   "id": "8d02ed94-4405-43d9-b89d-e4ab70e97ad6",
   "metadata": {},
   "outputs": [
    {
     "name": "stdout",
     "output_type": "stream",
     "text": [
      "Using base model: ai4bharat/indic-bert\n"
     ]
    }
   ],
   "source": [
    "import os\n",
    "import numpy as np\n",
    "import pandas as pd\n",
    "from sklearn.model_selection import train_test_split\n",
    "from datasets import Dataset\n",
    "import torch\n",
    "from transformers import (AutoTokenizer, AutoModelForSequenceClassification,\n",
    "                          Trainer, TrainingArguments)\n",
    "from sklearn.metrics import accuracy_score, f1_score, precision_score, recall_score\n",
    "\n",
    "# -------- CONFIG --------\n",
    "BASE_MODEL  = \"ai4bharat/indic-bert\"   # IndicBERT\n",
    "OUTPUT_DIR  = \"../outputs/initial\"\n",
    "MODEL_OUT   = os.path.join(OUTPUT_DIR, \"model\")\n",
    "\n",
    "TRAIN_PATHS = [\"../data/seed_labels.csv\", \"../data/expanded_seed.csv\", \"../data/uncertain_labels.csv\"]  # optional if some missing\n",
    "TEST_SIZE   = 0.15\n",
    "SEED        = 42\n",
    "MAX_LENGTH  = 128\n",
    "BATCH_SIZE  = 25\n",
    "EPOCHS      = 5\n",
    "LR          = 2e-5\n",
    "# ------------------------\n",
    "\n",
    "torch.manual_seed(SEED)\n",
    "os.makedirs(OUTPUT_DIR, exist_ok=True)\n",
    "print(\"Using base model:\", BASE_MODEL)\n"
   ]
  },
  {
   "cell_type": "code",
   "execution_count": 4,
   "id": "d1b9e8cd-bdc0-4de9-acfd-295c88571376",
   "metadata": {},
   "outputs": [
    {
     "name": "stdout",
     "output_type": "stream",
     "text": [
      "Total labeled rows: 398\n",
      "Class counts: {0: 199, 1: 199}\n",
      "Train size: 338 Val size: 60\n"
     ]
    }
   ],
   "source": [
    "# Load all available labeled sets\n",
    "dfs = []\n",
    "for p in TRAIN_PATHS:\n",
    "    if os.path.exists(p):\n",
    "        df = pd.read_csv(p)\n",
    "        if set([\"text\",\"label\"]).issubset(df.columns):\n",
    "            dfs.append(df[[\"text\",\"label\"]])\n",
    "        else:\n",
    "            print(f\"Skipping {p}: missing columns.\")\n",
    "    else:\n",
    "        print(f\"Not found: {p}\")\n",
    "\n",
    "if not dfs:\n",
    "    raise ValueError(\"No labeled data found.\")\n",
    "\n",
    "df = pd.concat(dfs, ignore_index=True).dropna().copy()\n",
    "df[\"text\"]  = df[\"text\"].astype(str)\n",
    "df[\"label\"] = df[\"label\"].astype(int)\n",
    "df = df.drop_duplicates(subset=\"text\").reset_index(drop=True)\n",
    "print(\"Total labeled rows:\", len(df))\n",
    "print(\"Class counts:\", df[\"label\"].value_counts().to_dict())\n",
    "\n",
    "# Split\n",
    "train_df, val_df = train_test_split(\n",
    "    df, test_size=TEST_SIZE, random_state=SEED, stratify=df[\"label\"]\n",
    ")\n",
    "\n",
    "print(\"Train size:\", len(train_df), \"Val size:\", len(val_df))\n"
   ]
  },
  {
   "cell_type": "code",
   "execution_count": 5,
   "id": "6d1d092d-ada9-4ccb-800f-ad67a7d4dfaf",
   "metadata": {},
   "outputs": [
    {
     "data": {
      "application/vnd.jupyter.widget-view+json": {
       "model_id": "12dc1e4f0146481cba000325f5f51fed",
       "version_major": 2,
       "version_minor": 0
      },
      "text/plain": [
       "Map:   0%|          | 0/338 [00:00<?, ? examples/s]"
      ]
     },
     "metadata": {},
     "output_type": "display_data"
    },
    {
     "data": {
      "application/vnd.jupyter.widget-view+json": {
       "model_id": "e8637c57658a4656a3fd5f12ca62afe1",
       "version_major": 2,
       "version_minor": 0
      },
      "text/plain": [
       "Map:   0%|          | 0/60 [00:00<?, ? examples/s]"
      ]
     },
     "metadata": {},
     "output_type": "display_data"
    }
   ],
   "source": [
    "tokenizer = AutoTokenizer.from_pretrained(BASE_MODEL)\n",
    "\n",
    "def tokenize_batch(batch):\n",
    "    return tokenizer(\n",
    "        batch[\"text\"],\n",
    "        padding=True,\n",
    "        truncation=True,\n",
    "        max_length=MAX_LENGTH\n",
    "    )\n",
    "\n",
    "train_ds = Dataset.from_pandas(train_df)\n",
    "val_ds   = Dataset.from_pandas(val_df)\n",
    "\n",
    "train_ds = train_ds.map(tokenize_batch, batched=True)\n",
    "val_ds   = val_ds.map(tokenize_batch,   batched=True)\n",
    "\n",
    "train_ds = train_ds.remove_columns([c for c in train_ds.column_names if c not in (\"input_ids\",\"attention_mask\",\"label\")])\n",
    "val_ds   = val_ds.remove_columns(  [c for c in val_ds.column_names   if c not in (\"input_ids\",\"attention_mask\",\"label\")])\n",
    "\n",
    "train_ds = train_ds.with_format(\"torch\")\n",
    "val_ds   = val_ds.with_format(\"torch\")\n"
   ]
  },
  {
   "cell_type": "code",
   "execution_count": 6,
   "id": "f004d58a-2641-47b4-ba7d-019d9b1e7d50",
   "metadata": {},
   "outputs": [],
   "source": [
    "id2label = {0: \"non_hate\", 1: \"hate\"}\n",
    "label2id = {\"non_hate\": 0, \"hate\": 1}\n",
    "\n",
    "def compute_metrics(eval_pred):\n",
    "    logits, labels = eval_pred\n",
    "    preds = logits.argmax(axis=1)\n",
    "    acc  = accuracy_score(labels, preds)\n",
    "    f1   = f1_score(labels, preds, average=\"binary\", pos_label=1)\n",
    "    prec = precision_score(labels, preds, average=\"binary\", pos_label=1)\n",
    "    rec  = recall_score(labels, preds, average=\"binary\", pos_label=1)\n",
    "    return {\"accuracy\": acc, \"f1\": f1, \"precision\": prec, \"recall\": rec}\n",
    "\n",
    "# Optional: compute class weights (inverse freq)\n",
    "counts = train_df[\"label\"].value_counts()\n",
    "cw = torch.tensor([1.0, 1.0])\n",
    "for cls in [0,1]:\n",
    "    if cls in counts:\n",
    "        cw[cls] = len(train_df) / (2.0 * counts[cls])\n",
    "cw = cw / cw.mean()  # normalize\n",
    "\n",
    "# Cross-version safe WeightedTrainer\n",
    "from transformers import Trainer\n",
    "import torch\n",
    "\n",
    "class WeightedTrainer(Trainer):\n",
    "    def __init__(self, *args, class_weights=None, **kwargs):\n",
    "        super().__init__(*args, **kwargs)\n",
    "        self.class_weights = class_weights\n",
    "\n",
    "    # Accept extra kwargs (e.g., num_items_in_batch) for newer Transformers\n",
    "    def compute_loss(self, model, inputs, return_outputs=False, **kwargs):\n",
    "        labels = inputs.get(\"labels\")\n",
    "        outputs = model(**inputs)\n",
    "        logits  = outputs.get(\"logits\")\n",
    "\n",
    "        if self.class_weights is not None:\n",
    "            loss_fct = torch.nn.CrossEntropyLoss(\n",
    "                weight=self.class_weights.to(logits.device)\n",
    "            )\n",
    "        else:\n",
    "            loss_fct = torch.nn.CrossEntropyLoss()\n",
    "\n",
    "        loss = loss_fct(logits, labels)\n",
    "        return (loss, outputs) if return_outputs else loss\n",
    "\n"
   ]
  },
  {
   "cell_type": "code",
   "execution_count": 7,
   "id": "85616e0c-1f30-4dba-b7e0-0d8872dfe9f0",
   "metadata": {},
   "outputs": [
    {
     "name": "stdout",
     "output_type": "stream",
     "text": [
      "Transformers: 4.55.0\n"
     ]
    },
    {
     "name": "stderr",
     "output_type": "stream",
     "text": [
      "Some weights of AlbertForSequenceClassification were not initialized from the model checkpoint at ai4bharat/indic-bert and are newly initialized: ['classifier.bias', 'classifier.weight']\n",
      "You should probably TRAIN this model on a down-stream task to be able to use it for predictions and inference.\n",
      "C:\\Users\\Hp\\AppData\\Local\\Temp\\ipykernel_56500\\1913535757.py:27: FutureWarning: `tokenizer` is deprecated and will be removed in version 5.0.0 for `WeightedTrainer.__init__`. Use `processing_class` instead.\n",
      "  super().__init__(*args, **kwargs)\n",
      "C:\\hp\\anaconda3\\Lib\\site-packages\\torch\\utils\\data\\dataloader.py:665: UserWarning: 'pin_memory' argument is set as true but no accelerator is found, then device pinned memory won't be used.\n",
      "  warnings.warn(warn_msg)\n"
     ]
    },
    {
     "data": {
      "text/html": [
       "\n",
       "    <div>\n",
       "      \n",
       "      <progress value='70' max='70' style='width:300px; height:20px; vertical-align: middle;'></progress>\n",
       "      [70/70 10:39, Epoch 5/5]\n",
       "    </div>\n",
       "    <table border=\"1\" class=\"dataframe\">\n",
       "  <thead>\n",
       " <tr style=\"text-align: left;\">\n",
       "      <th>Step</th>\n",
       "      <th>Training Loss</th>\n",
       "    </tr>\n",
       "  </thead>\n",
       "  <tbody>\n",
       "    <tr>\n",
       "      <td>50</td>\n",
       "      <td>0.631000</td>\n",
       "    </tr>\n",
       "  </tbody>\n",
       "</table><p>"
      ],
      "text/plain": [
       "<IPython.core.display.HTML object>"
      ]
     },
     "metadata": {},
     "output_type": "display_data"
    },
    {
     "name": "stderr",
     "output_type": "stream",
     "text": [
      "C:\\hp\\anaconda3\\Lib\\site-packages\\torch\\utils\\data\\dataloader.py:665: UserWarning: 'pin_memory' argument is set as true but no accelerator is found, then device pinned memory won't be used.\n",
      "  warnings.warn(warn_msg)\n"
     ]
    },
    {
     "data": {
      "text/html": [
       "\n",
       "    <div>\n",
       "      \n",
       "      <progress value='3' max='3' style='width:300px; height:20px; vertical-align: middle;'></progress>\n",
       "      [3/3 00:03]\n",
       "    </div>\n",
       "    "
      ],
      "text/plain": [
       "<IPython.core.display.HTML object>"
      ]
     },
     "metadata": {},
     "output_type": "display_data"
    },
    {
     "data": {
      "text/plain": [
       "{'eval_loss': 0.563599169254303,\n",
       " 'eval_accuracy': 0.8166666666666667,\n",
       " 'eval_f1': 0.835820895522388,\n",
       " 'eval_precision': 0.7567567567567568,\n",
       " 'eval_recall': 0.9333333333333333,\n",
       " 'eval_runtime': 6.7751,\n",
       " 'eval_samples_per_second': 8.856,\n",
       " 'eval_steps_per_second': 0.443,\n",
       " 'epoch': 5.0}"
      ]
     },
     "execution_count": 7,
     "metadata": {},
     "output_type": "execute_result"
    }
   ],
   "source": [
    "import transformers, os\n",
    "print(\"Transformers:\", transformers.__version__)\n",
    "\n",
    "model = AutoModelForSequenceClassification.from_pretrained(\n",
    "    BASE_MODEL,\n",
    "    num_labels=2,\n",
    "    id2label=id2label,\n",
    "    label2id=label2id\n",
    ")\n",
    "\n",
    "args = TrainingArguments(\n",
    "    output_dir=OUTPUT_DIR,\n",
    "    num_train_epochs=EPOCHS,\n",
    "    per_device_train_batch_size=BATCH_SIZE,\n",
    "    per_device_eval_batch_size=BATCH_SIZE,\n",
    "    learning_rate=LR,\n",
    "    logging_dir=os.path.join(OUTPUT_DIR, \"logs\"),\n",
    "    logging_steps=50\n",
    "    # NOTE: no evaluation_strategy/save_strategy/load_best_model_at_end here\n",
    ")\n",
    "\n",
    "trainer = WeightedTrainer(\n",
    "    model=model,\n",
    "    args=args,\n",
    "    train_dataset=train_ds,\n",
    "    eval_dataset=val_ds,\n",
    "    tokenizer=tokenizer,\n",
    "    compute_metrics=compute_metrics,\n",
    "    class_weights=cw\n",
    ")\n",
    "\n",
    "trainer.train()\n",
    "metrics = trainer.evaluate()\n",
    "metrics\n"
   ]
  },
  {
   "cell_type": "code",
   "execution_count": 8,
   "id": "b7cd3ed3-b34d-4750-b9a9-a267eba1bc98",
   "metadata": {},
   "outputs": [
    {
     "name": "stdout",
     "output_type": "stream",
     "text": [
      "Saved to: ../outputs/initial\\model\n"
     ]
    },
    {
     "name": "stderr",
     "output_type": "stream",
     "text": [
      "Device set to use cpu\n"
     ]
    },
    {
     "name": "stdout",
     "output_type": "stream",
     "text": [
      "[{'label': 'non_hate', 'score': 0.5363448858261108}, {'label': 'non_hate', 'score': 0.5365989804267883}, {'label': 'non_hate', 'score': 0.5356120467185974}]\n"
     ]
    }
   ],
   "source": [
    "os.makedirs(MODEL_OUT, exist_ok=True)\n",
    "trainer.save_model(MODEL_OUT)\n",
    "tokenizer.save_pretrained(MODEL_OUT)\n",
    "\n",
    "print(\"Saved to:\", MODEL_OUT)\n",
    "\n",
    "from transformers import pipeline\n",
    "clf = pipeline(\"text-classification\", model=MODEL_OUT, tokenizer=MODEL_OUT, device=0 if torch.cuda.is_available() else -1)\n",
    "\n",
    "examples = [\n",
    "    \"તને અહીં જીવવા ન દઈએ\",         # potentially hateful\n",
    "    \"શું હાલ છે? બરાબર?\",           # benign\n",
    "    \"Harami loko ne jawab aapo\",      # potentially hate/abuse\n",
    "]\n",
    "print(clf(examples))\n"
   ]
  },
  {
   "cell_type": "code",
   "execution_count": null,
   "id": "b9c46213-0251-4f44-8aba-42623d96a299",
   "metadata": {},
   "outputs": [],
   "source": []
  }
 ],
 "metadata": {
  "kernelspec": {
   "display_name": "Python 3",
   "language": "python",
   "name": "python3"
  },
  "language_info": {
   "codemirror_mode": {
    "name": "ipython",
    "version": 3
   },
   "file_extension": ".py",
   "mimetype": "text/x-python",
   "name": "python",
   "nbconvert_exporter": "python",
   "pygments_lexer": "ipython3",
   "version": "3.12.7"
  }
 },
 "nbformat": 4,
 "nbformat_minor": 5
}
