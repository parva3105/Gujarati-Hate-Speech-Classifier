{
 "cells": [
  {
   "cell_type": "code",
   "execution_count": 3,
   "id": "4599080e-bb72-43cd-b7fe-9585f50e7455",
   "metadata": {},
   "outputs": [
    {
     "name": "stdout",
     "output_type": "stream",
     "text": [
      "              precision    recall  f1-score   support\n",
      "\n",
      "           0     0.9983    0.9977    0.9980      1734\n",
      "           1     0.8095    0.8500    0.8293        20\n",
      "\n",
      "    accuracy                         0.9960      1754\n",
      "   macro avg     0.9039    0.9238    0.9136      1754\n",
      "weighted avg     0.9961    0.9960    0.9961      1754\n",
      "\n",
      "Confusion matrix:\n",
      " [[1730    4]\n",
      " [   3   17]]\n"
     ]
    }
   ],
   "source": [
    "from sklearn.metrics import classification_report, confusion_matrix\n",
    "import numpy as np\n",
    "import pandas as pd\n",
    "import torch\n",
    "from transformers import AutoTokenizer, AutoModelForSequenceClassification\n",
    "\n",
    "# Reload your validation data\n",
    "seed   = pd.read_csv('../data/seed_labels.csv', encoding='utf-8')\n",
    "pseudo = pd.read_csv('../data/pseudo_labels.csv', encoding='utf-8')\n",
    "df_all = pd.concat([seed, pseudo], ignore_index=True)\n",
    "\n",
    "# Recreate the same split (10%) for val\n",
    "from sklearn.model_selection import train_test_split\n",
    "_, idx = train_test_split(df_all.index, test_size=0.1,\n",
    "                          stratify=df_all['label'], random_state=42)\n",
    "val = df_all.loc[idx].reset_index(drop=True)\n",
    "\n",
    "# Load your final model & tokenizer\n",
    "tok = AutoTokenizer.from_pretrained('outputs/with_pseudo/model', use_fast=False)\n",
    "mdl = AutoModelForSequenceClassification.from_pretrained('outputs/with_pseudo/model')\n",
    "mdl.eval()\n",
    "\n",
    "# Predict\n",
    "def predict(texts, batch_size=64):\n",
    "    preds = []\n",
    "    for i in range(0, len(texts), batch_size):\n",
    "        batch = texts[i:i+batch_size]\n",
    "        inputs = tok(batch, padding=True, truncation=True,\n",
    "                     max_length=128, return_tensors='pt')\n",
    "        with torch.no_grad():\n",
    "            logits = mdl(**inputs).logits\n",
    "        preds.extend(logits.argmax(dim=1).cpu().numpy())\n",
    "    return np.array(preds)\n",
    "\n",
    "y_true = val['label'].to_numpy()\n",
    "y_pred = predict(val['text'].tolist())\n",
    "\n",
    "print(classification_report(y_true, y_pred, digits=4))\n",
    "print(\"Confusion matrix:\\n\", confusion_matrix(y_true, y_pred))\n"
   ]
  },
  {
   "cell_type": "code",
   "execution_count": null,
   "id": "99c9aec0-59bd-463a-9c87-fa328e34d57b",
   "metadata": {},
   "outputs": [],
   "source": []
  }
 ],
 "metadata": {
  "kernelspec": {
   "display_name": "Python 3",
   "language": "python",
   "name": "python3"
  },
  "language_info": {
   "codemirror_mode": {
    "name": "ipython",
    "version": 3
   },
   "file_extension": ".py",
   "mimetype": "text/x-python",
   "name": "python",
   "nbconvert_exporter": "python",
   "pygments_lexer": "ipython3",
   "version": "3.12.7"
  }
 },
 "nbformat": 4,
 "nbformat_minor": 5
}
