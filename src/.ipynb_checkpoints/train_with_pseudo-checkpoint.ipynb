{
 "cells": [
  {
   "cell_type": "code",
   "execution_count": 1,
   "id": "6872fc88-e467-4d9e-90ae-dccee9b205dd",
   "metadata": {},
   "outputs": [
    {
     "name": "stderr",
     "output_type": "stream",
     "text": [
      "WARNING: Ignoring invalid distribution ~ransformers (C:\\hp\\anaconda3\\Lib\\site-packages)\n",
      "WARNING: Ignoring invalid distribution ~ransformers (C:\\hp\\anaconda3\\Lib\\site-packages)\n",
      "WARNING: Ignoring invalid distribution ~ransformers (C:\\hp\\anaconda3\\Lib\\site-packages)\n"
     ]
    }
   ],
   "source": [
    "!pip install -q torch datasets transformers scikit-learn accelerate pandas\n"
   ]
  },
  {
   "cell_type": "code",
   "execution_count": 2,
   "id": "b51b5d9c-cb38-4a8a-8655-69363f0ab82e",
   "metadata": {},
   "outputs": [
    {
     "name": "stdout",
     "output_type": "stream",
     "text": [
      "Requirement already satisfied: transformers>=4.40 in c:\\hp\\anaconda3\\lib\\site-packages (4.55.0)\n",
      "Requirement already satisfied: datasets>=2.19 in c:\\hp\\anaconda3\\lib\\site-packages (4.0.0)\n",
      "Requirement already satisfied: accelerate>=0.30 in c:\\hp\\anaconda3\\lib\\site-packages (1.10.0)\n",
      "Requirement already satisfied: filelock in c:\\hp\\anaconda3\\lib\\site-packages (from transformers>=4.40) (3.13.1)\n",
      "Requirement already satisfied: huggingface-hub<1.0,>=0.34.0 in c:\\hp\\anaconda3\\lib\\site-packages (from transformers>=4.40) (0.34.3)\n",
      "Requirement already satisfied: numpy>=1.17 in c:\\hp\\anaconda3\\lib\\site-packages (from transformers>=4.40) (1.26.4)\n",
      "Requirement already satisfied: packaging>=20.0 in c:\\hp\\anaconda3\\lib\\site-packages (from transformers>=4.40) (24.1)\n",
      "Requirement already satisfied: pyyaml>=5.1 in c:\\hp\\anaconda3\\lib\\site-packages (from transformers>=4.40) (6.0.1)\n",
      "Requirement already satisfied: regex!=2019.12.17 in c:\\hp\\anaconda3\\lib\\site-packages (from transformers>=4.40) (2024.9.11)\n",
      "Requirement already satisfied: requests in c:\\hp\\anaconda3\\lib\\site-packages (from transformers>=4.40) (2.32.3)\n",
      "Requirement already satisfied: tokenizers<0.22,>=0.21 in c:\\hp\\anaconda3\\lib\\site-packages (from transformers>=4.40) (0.21.1)\n",
      "Requirement already satisfied: safetensors>=0.4.3 in c:\\hp\\anaconda3\\lib\\site-packages (from transformers>=4.40) (0.5.3)\n",
      "Requirement already satisfied: tqdm>=4.27 in c:\\hp\\anaconda3\\lib\\site-packages (from transformers>=4.40) (4.66.5)\n",
      "Requirement already satisfied: pyarrow>=15.0.0 in c:\\hp\\anaconda3\\lib\\site-packages (from datasets>=2.19) (16.1.0)\n",
      "Requirement already satisfied: dill<0.3.9,>=0.3.0 in c:\\hp\\anaconda3\\lib\\site-packages (from datasets>=2.19) (0.3.8)\n",
      "Requirement already satisfied: pandas in c:\\hp\\anaconda3\\lib\\site-packages (from datasets>=2.19) (2.2.2)\n",
      "Requirement already satisfied: xxhash in c:\\hp\\anaconda3\\lib\\site-packages (from datasets>=2.19) (3.5.0)\n",
      "Requirement already satisfied: multiprocess<0.70.17 in c:\\hp\\anaconda3\\lib\\site-packages (from datasets>=2.19) (0.70.16)\n",
      "Requirement already satisfied: fsspec<=2025.3.0,>=2023.1.0 in c:\\hp\\anaconda3\\lib\\site-packages (from fsspec[http]<=2025.3.0,>=2023.1.0->datasets>=2.19) (2024.6.1)\n",
      "Requirement already satisfied: psutil in c:\\hp\\anaconda3\\lib\\site-packages (from accelerate>=0.30) (5.9.0)\n",
      "Requirement already satisfied: torch>=2.0.0 in c:\\hp\\anaconda3\\lib\\site-packages (from accelerate>=0.30) (2.7.1)\n",
      "Requirement already satisfied: aiohttp!=4.0.0a0,!=4.0.0a1 in c:\\hp\\anaconda3\\lib\\site-packages (from fsspec[http]<=2025.3.0,>=2023.1.0->datasets>=2.19) (3.10.5)\n",
      "Requirement already satisfied: typing-extensions>=3.7.4.3 in c:\\hp\\anaconda3\\lib\\site-packages (from huggingface-hub<1.0,>=0.34.0->transformers>=4.40) (4.11.0)\n",
      "Requirement already satisfied: charset-normalizer<4,>=2 in c:\\hp\\anaconda3\\lib\\site-packages (from requests->transformers>=4.40) (3.3.2)\n",
      "Requirement already satisfied: idna<4,>=2.5 in c:\\hp\\anaconda3\\lib\\site-packages (from requests->transformers>=4.40) (3.7)\n",
      "Requirement already satisfied: urllib3<3,>=1.21.1 in c:\\hp\\anaconda3\\lib\\site-packages (from requests->transformers>=4.40) (2.2.3)\n",
      "Requirement already satisfied: certifi>=2017.4.17 in c:\\hp\\anaconda3\\lib\\site-packages (from requests->transformers>=4.40) (2025.1.31)\n",
      "Requirement already satisfied: sympy>=1.13.3 in c:\\hp\\anaconda3\\lib\\site-packages (from torch>=2.0.0->accelerate>=0.30) (1.14.0)\n",
      "Requirement already satisfied: networkx in c:\\hp\\anaconda3\\lib\\site-packages (from torch>=2.0.0->accelerate>=0.30) (3.3)\n",
      "Requirement already satisfied: jinja2 in c:\\hp\\anaconda3\\lib\\site-packages (from torch>=2.0.0->accelerate>=0.30) (3.1.4)\n",
      "Requirement already satisfied: setuptools in c:\\hp\\anaconda3\\lib\\site-packages (from torch>=2.0.0->accelerate>=0.30) (75.1.0)\n",
      "Requirement already satisfied: colorama in c:\\hp\\anaconda3\\lib\\site-packages (from tqdm>=4.27->transformers>=4.40) (0.4.6)\n",
      "Requirement already satisfied: python-dateutil>=2.8.2 in c:\\hp\\anaconda3\\lib\\site-packages (from pandas->datasets>=2.19) (2.9.0.post0)\n",
      "Requirement already satisfied: pytz>=2020.1 in c:\\hp\\anaconda3\\lib\\site-packages (from pandas->datasets>=2.19) (2024.1)\n",
      "Requirement already satisfied: tzdata>=2022.7 in c:\\hp\\anaconda3\\lib\\site-packages (from pandas->datasets>=2.19) (2023.3)\n",
      "Requirement already satisfied: aiohappyeyeballs>=2.3.0 in c:\\hp\\anaconda3\\lib\\site-packages (from aiohttp!=4.0.0a0,!=4.0.0a1->fsspec[http]<=2025.3.0,>=2023.1.0->datasets>=2.19) (2.4.0)\n",
      "Requirement already satisfied: aiosignal>=1.1.2 in c:\\hp\\anaconda3\\lib\\site-packages (from aiohttp!=4.0.0a0,!=4.0.0a1->fsspec[http]<=2025.3.0,>=2023.1.0->datasets>=2.19) (1.2.0)\n",
      "Requirement already satisfied: attrs>=17.3.0 in c:\\hp\\anaconda3\\lib\\site-packages (from aiohttp!=4.0.0a0,!=4.0.0a1->fsspec[http]<=2025.3.0,>=2023.1.0->datasets>=2.19) (23.1.0)\n",
      "Requirement already satisfied: frozenlist>=1.1.1 in c:\\hp\\anaconda3\\lib\\site-packages (from aiohttp!=4.0.0a0,!=4.0.0a1->fsspec[http]<=2025.3.0,>=2023.1.0->datasets>=2.19) (1.4.0)\n",
      "Requirement already satisfied: multidict<7.0,>=4.5 in c:\\hp\\anaconda3\\lib\\site-packages (from aiohttp!=4.0.0a0,!=4.0.0a1->fsspec[http]<=2025.3.0,>=2023.1.0->datasets>=2.19) (6.0.4)\n",
      "Requirement already satisfied: yarl<2.0,>=1.0 in c:\\hp\\anaconda3\\lib\\site-packages (from aiohttp!=4.0.0a0,!=4.0.0a1->fsspec[http]<=2025.3.0,>=2023.1.0->datasets>=2.19) (1.11.0)\n",
      "Requirement already satisfied: six>=1.5 in c:\\hp\\anaconda3\\lib\\site-packages (from python-dateutil>=2.8.2->pandas->datasets>=2.19) (1.16.0)\n",
      "Requirement already satisfied: mpmath<1.4,>=1.1.0 in c:\\hp\\anaconda3\\lib\\site-packages (from sympy>=1.13.3->torch>=2.0.0->accelerate>=0.30) (1.3.0)\n",
      "Requirement already satisfied: MarkupSafe>=2.0 in c:\\hp\\anaconda3\\lib\\site-packages (from jinja2->torch>=2.0.0->accelerate>=0.30) (2.1.3)\n"
     ]
    },
    {
     "name": "stderr",
     "output_type": "stream",
     "text": [
      "WARNING: Ignoring invalid distribution ~ransformers (C:\\hp\\anaconda3\\Lib\\site-packages)\n",
      "WARNING: Ignoring invalid distribution ~ransformers (C:\\hp\\anaconda3\\Lib\\site-packages)\n",
      "WARNING: Ignoring invalid distribution ~ransformers (C:\\hp\\anaconda3\\Lib\\site-packages)\n"
     ]
    }
   ],
   "source": [
    "!pip install -U \"transformers>=4.40\" \"datasets>=2.19\" \"accelerate>=0.30\"\n"
   ]
  },
  {
   "cell_type": "code",
   "execution_count": 3,
   "id": "12f7a2c9-a118-4da5-9501-ea18ec023dd3",
   "metadata": {},
   "outputs": [],
   "source": [
    "import os\n",
    "import numpy as np\n",
    "import pandas as pd\n",
    "from sklearn.model_selection import train_test_split\n",
    "from datasets import Dataset\n",
    "import torch\n",
    "from transformers import (AutoTokenizer, AutoModelForSequenceClassification,\n",
    "                          Trainer, TrainingArguments)\n",
    "from sklearn.metrics import accuracy_score, f1_score, precision_score, recall_score\n",
    "\n",
    "# -------- CONFIG --------\n",
    "BASE_MODEL_DIR   = \"outputs/initial/model\"       # continue from initial\n",
    "OUTPUT_DIR       = \"outputs/with_pseudo\"\n",
    "MODEL_OUT        = os.path.join(OUTPUT_DIR, \"model\")\n",
    "\n",
    "LABELED_PATHS    = [\"../data/seed_labels.csv\", \"../data/expanded_seed.csv\", \"../data/uncertain_labels.csv\"]\n",
    "PSEUDO_PATH      = \"../data/pseudo_labels.csv\"\n",
    "\n",
    "TEST_SIZE        = 0.15\n",
    "SEED             = 42\n",
    "MAX_LENGTH       = 128\n",
    "BATCH_SIZE       = 25\n",
    "EPOCHS           = 4\n",
    "LR               = 2e-5\n",
    "\n",
    "# Balance: cap pseudo to ratio of gold labels (e.g., 1.0 => 1:1)\n",
    "PSEUDO_TO_GOLD_RATIO = 1.0\n",
    "# Or set fixed cap (overrides ratio if not None)\n",
    "PSEUDO_CAP           = None  # e.g., 300\n",
    "# Stratified per-class cap helper will keep classes balanced\n",
    "# -----------------------------------------\n",
    "\n",
    "torch.manual_seed(SEED)\n",
    "os.makedirs(OUTPUT_DIR, exist_ok=True)\n"
   ]
  },
  {
   "cell_type": "code",
   "execution_count": 4,
   "id": "954ce91f-4b5c-401e-8d3a-a7cefc6be87a",
   "metadata": {},
   "outputs": [
    {
     "name": "stdout",
     "output_type": "stream",
     "text": [
      "Gold count: 398 class counts: {0: 199, 1: 199}\n",
      "Pseudo total: 50 class counts: {1: 50}\n",
      "Pseudo kept: 50 class counts: {1: 50}\n",
      "Final train size: 448 class counts: {1: 249, 0: 199}\n",
      "Train size: 380 Val size: 68\n"
     ]
    },
    {
     "name": "stderr",
     "output_type": "stream",
     "text": [
      "C:\\Users\\Hp\\AppData\\Local\\Temp\\ipykernel_31844\\3588539374.py:34: DeprecationWarning: DataFrameGroupBy.apply operated on the grouping columns. This behavior is deprecated, and in a future version of pandas the grouping columns will be excluded from the operation. Either pass `include_groups=False` to exclude the groupings or explicitly select the grouping columns after groupby to silence this warning.\n",
      "  return df.groupby(\"label\", group_keys=False).apply(\n"
     ]
    }
   ],
   "source": [
    "# Load gold (human) labels\n",
    "gold_dfs = []\n",
    "for p in LABELED_PATHS:\n",
    "    if os.path.exists(p):\n",
    "        df = pd.read_csv(p)\n",
    "        if set([\"text\",\"label\"]).issubset(df.columns):\n",
    "            gold_dfs.append(df[[\"text\",\"label\"]])\n",
    "        else:\n",
    "            print(f\"Skipping {p}: missing columns.\")\n",
    "    else:\n",
    "        print(f\"Not found: {p}\")\n",
    "\n",
    "if not gold_dfs:\n",
    "    raise ValueError(\"No gold labeled data found.\")\n",
    "\n",
    "gold = pd.concat(gold_dfs, ignore_index=True).dropna().copy()\n",
    "gold[\"text\"] = gold[\"text\"].astype(str)\n",
    "gold[\"label\"] = gold[\"label\"].astype(int)\n",
    "gold = gold.drop_duplicates(subset=\"text\").reset_index(drop=True)\n",
    "\n",
    "print(\"Gold count:\", len(gold), \"class counts:\", gold[\"label\"].value_counts().to_dict())\n",
    "\n",
    "# Load pseudo\n",
    "if not os.path.exists(PSEUDO_PATH):\n",
    "    raise ValueError(\"pseudo_labels.csv not found. Run pseudo_label.ipynb first.\")\n",
    "pseudo = pd.read_csv(PSEUDO_PATH).dropna().copy()\n",
    "pseudo[\"text\"] = pseudo[\"text\"].astype(str)\n",
    "pseudo[\"label\"] = pseudo[\"label\"].astype(int)\n",
    "pseudo = pseudo.drop_duplicates(subset=\"text\").reset_index(drop=True)\n",
    "print(\"Pseudo total:\", len(pseudo), \"class counts:\", pseudo[\"label\"].value_counts().to_dict())\n",
    "\n",
    "# Balance pseudo size\n",
    "def stratified_cap(df, per_class):\n",
    "    return df.groupby(\"label\", group_keys=False).apply(\n",
    "        lambda g: g.sample(min(len(g), per_class), random_state=SEED)\n",
    "    )\n",
    "\n",
    "target_pseudo = len(gold) if PSEUDO_TO_GOLD_RATIO is None else int(len(gold) * PSEUDO_TO_GOLD_RATIO)\n",
    "if PSEUDO_CAP is not None:\n",
    "    target_pseudo = min(target_pseudo, PSEUDO_CAP)\n",
    "\n",
    "# Per-class cap (split across two classes)\n",
    "per_class_cap = max(1, target_pseudo // 2)\n",
    "pseudo_bal = stratified_cap(pseudo, per_class=per_class_cap)\n",
    "\n",
    "print(\"Pseudo kept:\", len(pseudo_bal), \"class counts:\", pseudo_bal[\"label\"].value_counts().to_dict())\n",
    "\n",
    "# Build final train DF\n",
    "train_all = pd.concat([gold, pseudo_bal], ignore_index=True).drop_duplicates(\"text\").reset_index(drop=True)\n",
    "print(\"Final train size:\", len(train_all), \"class counts:\", train_all[\"label\"].value_counts().to_dict())\n",
    "\n",
    "# Split into train/val\n",
    "train_df, val_df = train_test_split(\n",
    "    train_all, test_size=TEST_SIZE, random_state=SEED, stratify=train_all[\"label\"]\n",
    ")\n",
    "print(\"Train size:\", len(train_df), \"Val size:\", len(val_df))\n"
   ]
  },
  {
   "cell_type": "code",
   "execution_count": 5,
   "id": "8796d1ad-53af-46da-a6b2-324304564289",
   "metadata": {},
   "outputs": [
    {
     "data": {
      "application/vnd.jupyter.widget-view+json": {
       "model_id": "4316c7d6044d40eda2baa99013da0106",
       "version_major": 2,
       "version_minor": 0
      },
      "text/plain": [
       "Map:   0%|          | 0/380 [00:00<?, ? examples/s]"
      ]
     },
     "metadata": {},
     "output_type": "display_data"
    },
    {
     "data": {
      "application/vnd.jupyter.widget-view+json": {
       "model_id": "40bca1311fc84e1abebde571efe6dd24",
       "version_major": 2,
       "version_minor": 0
      },
      "text/plain": [
       "Map:   0%|          | 0/68 [00:00<?, ? examples/s]"
      ]
     },
     "metadata": {},
     "output_type": "display_data"
    }
   ],
   "source": [
    "tokenizer = AutoTokenizer.from_pretrained(BASE_MODEL_DIR)\n",
    "\n",
    "def tokenize_batch(batch):\n",
    "    return tokenizer(\n",
    "        batch[\"text\"],\n",
    "        padding=True,\n",
    "        truncation=True,\n",
    "        max_length=MAX_LENGTH\n",
    "    )\n",
    "\n",
    "train_ds = Dataset.from_pandas(train_df)\n",
    "val_ds   = Dataset.from_pandas(val_df)\n",
    "\n",
    "train_ds = train_ds.map(tokenize_batch, batched=True)\n",
    "val_ds   = val_ds.map(tokenize_batch,   batched=True)\n",
    "\n",
    "train_ds = train_ds.remove_columns([c for c in train_ds.column_names if c not in (\"input_ids\",\"attention_mask\",\"label\")])\n",
    "val_ds   = val_ds.remove_columns(  [c for c in val_ds.column_names   if c not in (\"input_ids\",\"attention_mask\",\"label\")])\n",
    "\n",
    "train_ds = train_ds.with_format(\"torch\")\n",
    "val_ds   = val_ds.with_format(\"torch\")\n"
   ]
  },
  {
   "cell_type": "code",
   "execution_count": 6,
   "id": "08617721-cd83-4369-99ff-e933ee5cc996",
   "metadata": {},
   "outputs": [],
   "source": [
    "id2label = {0: \"non_hate\", 1: \"hate\"}\n",
    "label2id = {\"non_hate\": 0, \"hate\": 1}\n",
    "\n",
    "def compute_metrics(eval_pred):\n",
    "    logits, labels = eval_pred\n",
    "    preds = logits.argmax(axis=1)\n",
    "    acc  = accuracy_score(labels, preds)\n",
    "    f1   = f1_score(labels, preds, average=\"binary\", pos_label=1)\n",
    "    prec = precision_score(labels, preds, average=\"binary\", pos_label=1)\n",
    "    rec  = recall_score(labels, preds, average=\"binary\", pos_label=1)\n",
    "    return {\"accuracy\": acc, \"f1\": f1, \"precision\": prec, \"recall\": rec}\n",
    "\n",
    "# Class weights on the *train* mix\n",
    "counts = train_df[\"label\"].value_counts()\n",
    "cw = torch.tensor([1.0, 1.0])\n",
    "for cls in [0,1]:\n",
    "    if cls in counts:\n",
    "        cw[cls] = len(train_df) / (2.0 * counts[cls])\n",
    "cw = cw / cw.mean()\n",
    "\n",
    "from transformers import Trainer\n",
    "import torch\n",
    "\n",
    "# Cross-version safe trainer with class weights\n",
    "class WeightedTrainer(Trainer):\n",
    "    def __init__(self, *args, class_weights=None, **kwargs):\n",
    "        super().__init__(*args, **kwargs)\n",
    "        self.class_weights = class_weights\n",
    "\n",
    "    # Accept extra kwargs (e.g., num_items_in_batch) for newer Transformers\n",
    "    def compute_loss(self, model, inputs, return_outputs=False, **kwargs):\n",
    "        labels = inputs.get(\"labels\")\n",
    "        outputs = model(**inputs)\n",
    "        logits  = outputs.get(\"logits\")\n",
    "\n",
    "        if self.class_weights is not None:\n",
    "            loss_fct = torch.nn.CrossEntropyLoss(\n",
    "                weight=self.class_weights.to(logits.device)\n",
    "            )\n",
    "        else:\n",
    "            loss_fct = torch.nn.CrossEntropyLoss()\n",
    "\n",
    "        loss = loss_fct(logits, labels)\n",
    "        return (loss, outputs) if return_outputs else loss\n"
   ]
  },
  {
   "cell_type": "code",
   "execution_count": 7,
   "id": "163344df-0dcd-4934-abc0-47a35eb3c63b",
   "metadata": {},
   "outputs": [
    {
     "ename": "TypeError",
     "evalue": "TrainingArguments.__init__() got an unexpected keyword argument 'evaluation_strategy'",
     "output_type": "error",
     "traceback": [
      "\u001b[1;31m---------------------------------------------------------------------------\u001b[0m",
      "\u001b[1;31mTypeError\u001b[0m                                 Traceback (most recent call last)",
      "Cell \u001b[1;32mIn[7], line 8\u001b[0m\n\u001b[0;32m      1\u001b[0m model \u001b[38;5;241m=\u001b[39m AutoModelForSequenceClassification\u001b[38;5;241m.\u001b[39mfrom_pretrained(\n\u001b[0;32m      2\u001b[0m     BASE_MODEL_DIR,\n\u001b[0;32m      3\u001b[0m     num_labels\u001b[38;5;241m=\u001b[39m\u001b[38;5;241m2\u001b[39m,\n\u001b[0;32m      4\u001b[0m     id2label\u001b[38;5;241m=\u001b[39mid2label,\n\u001b[0;32m      5\u001b[0m     label2id\u001b[38;5;241m=\u001b[39mlabel2id\n\u001b[0;32m      6\u001b[0m )\n\u001b[1;32m----> 8\u001b[0m args \u001b[38;5;241m=\u001b[39m TrainingArguments(\n\u001b[0;32m      9\u001b[0m     output_dir\u001b[38;5;241m=\u001b[39mOUTPUT_DIR,\n\u001b[0;32m     10\u001b[0m     num_train_epochs\u001b[38;5;241m=\u001b[39mEPOCHS,\n\u001b[0;32m     11\u001b[0m     per_device_train_batch_size\u001b[38;5;241m=\u001b[39mBATCH_SIZE,\n\u001b[0;32m     12\u001b[0m     per_device_eval_batch_size\u001b[38;5;241m=\u001b[39mBATCH_SIZE,\n\u001b[0;32m     13\u001b[0m     learning_rate\u001b[38;5;241m=\u001b[39mLR,\n\u001b[0;32m     14\u001b[0m     evaluation_strategy\u001b[38;5;241m=\u001b[39m\u001b[38;5;124m\"\u001b[39m\u001b[38;5;124mepoch\u001b[39m\u001b[38;5;124m\"\u001b[39m,\n\u001b[0;32m     15\u001b[0m     logging_dir\u001b[38;5;241m=\u001b[39mos\u001b[38;5;241m.\u001b[39mpath\u001b[38;5;241m.\u001b[39mjoin(OUTPUT_DIR, \u001b[38;5;124m\"\u001b[39m\u001b[38;5;124mlogs\u001b[39m\u001b[38;5;124m\"\u001b[39m),\n\u001b[0;32m     16\u001b[0m     logging_steps\u001b[38;5;241m=\u001b[39m\u001b[38;5;241m50\u001b[39m,\n\u001b[0;32m     17\u001b[0m     save_strategy\u001b[38;5;241m=\u001b[39m\u001b[38;5;124m\"\u001b[39m\u001b[38;5;124mepoch\u001b[39m\u001b[38;5;124m\"\u001b[39m,\n\u001b[0;32m     18\u001b[0m     load_best_model_at_end\u001b[38;5;241m=\u001b[39m\u001b[38;5;28;01mTrue\u001b[39;00m,\n\u001b[0;32m     19\u001b[0m     metric_for_best_model\u001b[38;5;241m=\u001b[39m\u001b[38;5;124m\"\u001b[39m\u001b[38;5;124mf1\u001b[39m\u001b[38;5;124m\"\u001b[39m,\n\u001b[0;32m     20\u001b[0m )\n\u001b[0;32m     22\u001b[0m trainer \u001b[38;5;241m=\u001b[39m WeightedTrainer(\n\u001b[0;32m     23\u001b[0m     model\u001b[38;5;241m=\u001b[39mmodel,\n\u001b[0;32m     24\u001b[0m     args\u001b[38;5;241m=\u001b[39margs,\n\u001b[1;32m   (...)\u001b[0m\n\u001b[0;32m     29\u001b[0m     class_weights\u001b[38;5;241m=\u001b[39mcw\n\u001b[0;32m     30\u001b[0m )\n",
      "\u001b[1;31mTypeError\u001b[0m: TrainingArguments.__init__() got an unexpected keyword argument 'evaluation_strategy'"
     ]
    }
   ],
   "source": [
    "import transformers, os\n",
    "print(\"Transformers:\", transformers.__version__)\n",
    "\n",
    "# 1) Model (continue from initial)\n",
    "model = AutoModelForSequenceClassification.from_pretrained(\n",
    "    BASE_MODEL_DIR,\n",
    "    num_labels=2,\n",
    "    id2label=id2label,\n",
    "    label2id=label2id\n",
    ")\n",
    "\n",
    "# 2) Training args — NO modern flags\n",
    "args = TrainingArguments(\n",
    "    output_dir=OUTPUT_DIR,\n",
    "    num_train_epochs=EPOCHS,\n",
    "    per_device_train_batch_size=BATCH_SIZE,\n",
    "    per_device_eval_batch_size=BATCH_SIZE,\n",
    "    learning_rate=LR,\n",
    "    logging_dir=os.path.join(OUTPUT_DIR, \"logs\"),\n",
    "    logging_steps=50\n",
    ")\n",
    "\n",
    "# 3) Trainer (use the cross-version WeightedTrainer you added earlier)\n",
    "trainer = WeightedTrainer(\n",
    "    model=model,\n",
    "    args=args,\n",
    "    train_dataset=train_ds,\n",
    "    eval_dataset=val_ds,\n",
    "    tokenizer=tokenizer,          # deprecation warning is fine\n",
    "    compute_metrics=compute_metrics,\n",
    "    class_weights=cw\n",
    ")\n",
    "\n",
    "# 4) Train → Evaluate → Save\n",
    "trainer.train()\n",
    "metrics = trainer.evaluate()\n",
    "print(\"Val metrics:\", metrics)\n",
    "\n",
    "os.makedirs(MODEL_OUT, exist_ok=True)\n",
    "trainer.save_model(MODEL_OUT)\n",
    "tokenizer.save_pretrained(MODEL_OUT)\n",
    "print(\"Saved to:\", MODEL_OUT)\n"
   ]
  },
  {
   "cell_type": "code",
   "execution_count": null,
   "id": "bcd8ed9b-8ceb-4b1f-8d9d-6bfe1c1547bf",
   "metadata": {},
   "outputs": [],
   "source": [
    "trainer.train()\n",
    "metrics = trainer.evaluate()\n",
    "metrics\n"
   ]
  },
  {
   "cell_type": "code",
   "execution_count": null,
   "id": "5a34feab-a5b3-42c2-a69b-6638ef7bb6f0",
   "metadata": {},
   "outputs": [],
   "source": [
    "os.makedirs(MODEL_OUT, exist_ok=True)\n",
    "trainer.save_model(MODEL_OUT)\n",
    "tokenizer.save_pretrained(MODEL_OUT)\n",
    "print(\"Saved to:\", MODEL_OUT)\n",
    "\n",
    "from transformers import pipeline\n",
    "clf = pipeline(\"text-classification\", model=MODEL_OUT, tokenizer=MODEL_OUT, device=0 if torch.cuda.is_available() else -1)\n",
    "\n",
    "examples = [\n",
    "    \"તને અહીં જીવવા ન દઈએ\",         # potentially hateful\n",
    "    \"શું હાલ છે? બરાબર?\",           # benign\n",
    "    \"ચુપ રહે, ગંદી ભાષા નો ઉપયોગ ન કર\", # abusive/hate-ish\n",
    "]\n",
    "print(clf(examples))\n"
   ]
  },
  {
   "cell_type": "code",
   "execution_count": null,
   "id": "62da268e-f1aa-4602-855d-6d9ed62e6914",
   "metadata": {},
   "outputs": [],
   "source": []
  }
 ],
 "metadata": {
  "kernelspec": {
   "display_name": "Python 3",
   "language": "python",
   "name": "python3"
  },
  "language_info": {
   "codemirror_mode": {
    "name": "ipython",
    "version": 3
   },
   "file_extension": ".py",
   "mimetype": "text/x-python",
   "name": "python",
   "nbconvert_exporter": "python",
   "pygments_lexer": "ipython3",
   "version": "3.12.7"
  }
 },
 "nbformat": 4,
 "nbformat_minor": 5
}
