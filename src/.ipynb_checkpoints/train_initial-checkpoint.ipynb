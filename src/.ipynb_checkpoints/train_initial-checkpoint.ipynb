{
 "cells": [
  {
   "cell_type": "code",
   "execution_count": 1,
   "id": "d267457d-7f94-4b0d-bd06-47e7cf0e0b95",
   "metadata": {},
   "outputs": [
    {
     "name": "stderr",
     "output_type": "stream",
     "text": [
      "WARNING: Ignoring invalid distribution ~ransformers (C:\\hp\\anaconda3\\Lib\\site-packages)\n",
      "WARNING: Ignoring invalid distribution ~ransformers (C:\\hp\\anaconda3\\Lib\\site-packages)\n",
      "WARNING: Ignoring invalid distribution ~ransformers (C:\\hp\\anaconda3\\Lib\\site-packages)\n"
     ]
    }
   ],
   "source": [
    "!pip install -q torch datasets transformers scikit-learn accelerate pandas"
   ]
  },
  {
   "cell_type": "code",
   "execution_count": null,
   "id": "957f6027-1309-4c67-a900-57b1cd888324",
   "metadata": {},
   "outputs": [],
   "source": [
    "!pip install -U \"transformers>=4.40\" \"datasets>=2.19\" \"accelerate>=0.30\"\n"
   ]
  },
  {
   "cell_type": "code",
   "execution_count": 2,
   "id": "8d02ed94-4405-43d9-b89d-e4ab70e97ad6",
   "metadata": {},
   "outputs": [
    {
     "name": "stdout",
     "output_type": "stream",
     "text": [
      "Using base model: ai4bharat/indic-bert\n"
     ]
    }
   ],
   "source": [
    "import os\n",
    "import numpy as np\n",
    "import pandas as pd\n",
    "from sklearn.model_selection import train_test_split\n",
    "from datasets import Dataset\n",
    "import torch\n",
    "from transformers import (AutoTokenizer, AutoModelForSequenceClassification,\n",
    "                          Trainer, TrainingArguments)\n",
    "from sklearn.metrics import accuracy_score, f1_score, precision_score, recall_score\n",
    "\n",
    "# -------- CONFIG --------\n",
    "BASE_MODEL  = \"ai4bharat/indic-bert\"   # IndicBERT\n",
    "OUTPUT_DIR  = \"outputs/initial\"\n",
    "MODEL_OUT   = os.path.join(OUTPUT_DIR, \"model\")\n",
    "\n",
    "TRAIN_PATHS = [\"../data/seed_labels.csv\", \"../data/expanded_seed.csv\", \"../data/uncertain_labels.csv\"]  # optional if some missing\n",
    "TEST_SIZE   = 0.15\n",
    "SEED        = 42\n",
    "MAX_LENGTH  = 128\n",
    "BATCH_SIZE  = 25\n",
    "EPOCHS      = 5\n",
    "LR          = 2e-5\n",
    "# ------------------------\n",
    "\n",
    "torch.manual_seed(SEED)\n",
    "os.makedirs(OUTPUT_DIR, exist_ok=True)\n",
    "print(\"Using base model:\", BASE_MODEL)\n"
   ]
  },
  {
   "cell_type": "code",
   "execution_count": 3,
   "id": "d1b9e8cd-bdc0-4de9-acfd-295c88571376",
   "metadata": {},
   "outputs": [
    {
     "name": "stdout",
     "output_type": "stream",
     "text": [
      "Total labeled rows: 398\n",
      "Class counts: {0: 199, 1: 199}\n",
      "Train size: 338 Val size: 60\n"
     ]
    }
   ],
   "source": [
    "# Load all available labeled sets\n",
    "dfs = []\n",
    "for p in TRAIN_PATHS:\n",
    "    if os.path.exists(p):\n",
    "        df = pd.read_csv(p)\n",
    "        if set([\"text\",\"label\"]).issubset(df.columns):\n",
    "            dfs.append(df[[\"text\",\"label\"]])\n",
    "        else:\n",
    "            print(f\"Skipping {p}: missing columns.\")\n",
    "    else:\n",
    "        print(f\"Not found: {p}\")\n",
    "\n",
    "if not dfs:\n",
    "    raise ValueError(\"No labeled data found.\")\n",
    "\n",
    "df = pd.concat(dfs, ignore_index=True).dropna().copy()\n",
    "df[\"text\"]  = df[\"text\"].astype(str)\n",
    "df[\"label\"] = df[\"label\"].astype(int)\n",
    "df = df.drop_duplicates(subset=\"text\").reset_index(drop=True)\n",
    "print(\"Total labeled rows:\", len(df))\n",
    "print(\"Class counts:\", df[\"label\"].value_counts().to_dict())\n",
    "\n",
    "# Split\n",
    "train_df, val_df = train_test_split(\n",
    "    df, test_size=TEST_SIZE, random_state=SEED, stratify=df[\"label\"]\n",
    ")\n",
    "\n",
    "print(\"Train size:\", len(train_df), \"Val size:\", len(val_df))\n"
   ]
  },
  {
   "cell_type": "code",
   "execution_count": 4,
   "id": "6d1d092d-ada9-4ccb-800f-ad67a7d4dfaf",
   "metadata": {},
   "outputs": [
    {
     "data": {
      "application/vnd.jupyter.widget-view+json": {
       "model_id": "1e49a4baa5b94b6bb29cab71e765948b",
       "version_major": 2,
       "version_minor": 0
      },
      "text/plain": [
       "Map:   0%|          | 0/338 [00:00<?, ? examples/s]"
      ]
     },
     "metadata": {},
     "output_type": "display_data"
    },
    {
     "data": {
      "application/vnd.jupyter.widget-view+json": {
       "model_id": "7481be024b9d4997ad888b914d7cabbc",
       "version_major": 2,
       "version_minor": 0
      },
      "text/plain": [
       "Map:   0%|          | 0/60 [00:00<?, ? examples/s]"
      ]
     },
     "metadata": {},
     "output_type": "display_data"
    }
   ],
   "source": [
    "tokenizer = AutoTokenizer.from_pretrained(BASE_MODEL)\n",
    "\n",
    "def tokenize_batch(batch):\n",
    "    return tokenizer(\n",
    "        batch[\"text\"],\n",
    "        padding=True,\n",
    "        truncation=True,\n",
    "        max_length=MAX_LENGTH\n",
    "    )\n",
    "\n",
    "train_ds = Dataset.from_pandas(train_df)\n",
    "val_ds   = Dataset.from_pandas(val_df)\n",
    "\n",
    "train_ds = train_ds.map(tokenize_batch, batched=True)\n",
    "val_ds   = val_ds.map(tokenize_batch,   batched=True)\n",
    "\n",
    "train_ds = train_ds.remove_columns([c for c in train_ds.column_names if c not in (\"input_ids\",\"attention_mask\",\"label\")])\n",
    "val_ds   = val_ds.remove_columns(  [c for c in val_ds.column_names   if c not in (\"input_ids\",\"attention_mask\",\"label\")])\n",
    "\n",
    "train_ds = train_ds.with_format(\"torch\")\n",
    "val_ds   = val_ds.with_format(\"torch\")\n"
   ]
  },
  {
   "cell_type": "code",
   "execution_count": 5,
   "id": "f004d58a-2641-47b4-ba7d-019d9b1e7d50",
   "metadata": {},
   "outputs": [],
   "source": [
    "id2label = {0: \"non_hate\", 1: \"hate\"}\n",
    "label2id = {\"non_hate\": 0, \"hate\": 1}\n",
    "\n",
    "def compute_metrics(eval_pred):\n",
    "    logits, labels = eval_pred\n",
    "    preds = logits.argmax(axis=1)\n",
    "    acc  = accuracy_score(labels, preds)\n",
    "    f1   = f1_score(labels, preds, average=\"binary\", pos_label=1)\n",
    "    prec = precision_score(labels, preds, average=\"binary\", pos_label=1)\n",
    "    rec  = recall_score(labels, preds, average=\"binary\", pos_label=1)\n",
    "    return {\"accuracy\": acc, \"f1\": f1, \"precision\": prec, \"recall\": rec}\n",
    "\n",
    "# Optional: compute class weights (inverse freq)\n",
    "counts = train_df[\"label\"].value_counts()\n",
    "cw = torch.tensor([1.0, 1.0])\n",
    "for cls in [0,1]:\n",
    "    if cls in counts:\n",
    "        cw[cls] = len(train_df) / (2.0 * counts[cls])\n",
    "cw = cw / cw.mean()  # normalize\n",
    "\n",
    "class WeightedTrainer(Trainer):\n",
    "    def __init__(self, class_weights=None, *args, **kwargs):\n",
    "        super().__init__(*args, **kwargs)\n",
    "        self.class_weights = class_weights\n",
    "\n",
    "    def compute_loss(self, model, inputs, return_outputs=False):\n",
    "        labels = inputs.get(\"labels\")\n",
    "        outputs = model(**inputs)\n",
    "        logits = outputs.get(\"logits\")\n",
    "        if self.class_weights is not None:\n",
    "            loss_fct = torch.nn.CrossEntropyLoss(weight=self.class_weights.to(logits.device))\n",
    "        else:\n",
    "            loss_fct = torch.nn.CrossEntropyLoss()\n",
    "        loss = loss_fct(logits, labels)\n",
    "        return (loss, outputs) if return_outputs else loss\n"
   ]
  },
  {
   "cell_type": "code",
   "execution_count": 9,
   "id": "85616e0c-1f30-4dba-b7e0-0d8872dfe9f0",
   "metadata": {},
   "outputs": [
    {
     "name": "stdout",
     "output_type": "stream",
     "text": [
      "Transformers: 4.55.0\n"
     ]
    },
    {
     "name": "stderr",
     "output_type": "stream",
     "text": [
      "Some weights of AlbertForSequenceClassification were not initialized from the model checkpoint at ai4bharat/indic-bert and are newly initialized: ['classifier.bias', 'classifier.weight']\n",
      "You should probably TRAIN this model on a down-stream task to be able to use it for predictions and inference.\n",
      "C:\\Users\\Hp\\AppData\\Local\\Temp\\ipykernel_30272\\2650215357.py:23: FutureWarning: `tokenizer` is deprecated and will be removed in version 5.0.0 for `WeightedTrainer.__init__`. Use `processing_class` instead.\n",
      "  super().__init__(*args, **kwargs)\n",
      "C:\\hp\\anaconda3\\Lib\\site-packages\\torch\\utils\\data\\dataloader.py:665: UserWarning: 'pin_memory' argument is set as true but no accelerator is found, then device pinned memory won't be used.\n",
      "  warnings.warn(warn_msg)\n"
     ]
    },
    {
     "ename": "TypeError",
     "evalue": "WeightedTrainer.compute_loss() got an unexpected keyword argument 'num_items_in_batch'",
     "output_type": "error",
     "traceback": [
      "\u001b[1;31m---------------------------------------------------------------------------\u001b[0m",
      "\u001b[1;31mTypeError\u001b[0m                                 Traceback (most recent call last)",
      "Cell \u001b[1;32mIn[9], line 32\u001b[0m\n\u001b[0;32m     11\u001b[0m args \u001b[38;5;241m=\u001b[39m TrainingArguments(\n\u001b[0;32m     12\u001b[0m     output_dir\u001b[38;5;241m=\u001b[39mOUTPUT_DIR,\n\u001b[0;32m     13\u001b[0m     num_train_epochs\u001b[38;5;241m=\u001b[39mEPOCHS,\n\u001b[1;32m   (...)\u001b[0m\n\u001b[0;32m     19\u001b[0m     \u001b[38;5;66;03m# NOTE: no evaluation_strategy/save_strategy/load_best_model_at_end here\u001b[39;00m\n\u001b[0;32m     20\u001b[0m )\n\u001b[0;32m     22\u001b[0m trainer \u001b[38;5;241m=\u001b[39m WeightedTrainer(\n\u001b[0;32m     23\u001b[0m     model\u001b[38;5;241m=\u001b[39mmodel,\n\u001b[0;32m     24\u001b[0m     args\u001b[38;5;241m=\u001b[39margs,\n\u001b[1;32m   (...)\u001b[0m\n\u001b[0;32m     29\u001b[0m     class_weights\u001b[38;5;241m=\u001b[39mcw\n\u001b[0;32m     30\u001b[0m )\n\u001b[1;32m---> 32\u001b[0m trainer\u001b[38;5;241m.\u001b[39mtrain()\n\u001b[0;32m     33\u001b[0m metrics \u001b[38;5;241m=\u001b[39m trainer\u001b[38;5;241m.\u001b[39mevaluate()\n\u001b[0;32m     34\u001b[0m metrics\n",
      "File \u001b[1;32mC:\\hp\\anaconda3\\Lib\\site-packages\\transformers\\trainer.py:2238\u001b[0m, in \u001b[0;36mTrainer.train\u001b[1;34m(self, resume_from_checkpoint, trial, ignore_keys_for_eval, **kwargs)\u001b[0m\n\u001b[0;32m   2236\u001b[0m         hf_hub_utils\u001b[38;5;241m.\u001b[39menable_progress_bars()\n\u001b[0;32m   2237\u001b[0m \u001b[38;5;28;01melse\u001b[39;00m:\n\u001b[1;32m-> 2238\u001b[0m     \u001b[38;5;28;01mreturn\u001b[39;00m inner_training_loop(\n\u001b[0;32m   2239\u001b[0m         args\u001b[38;5;241m=\u001b[39margs,\n\u001b[0;32m   2240\u001b[0m         resume_from_checkpoint\u001b[38;5;241m=\u001b[39mresume_from_checkpoint,\n\u001b[0;32m   2241\u001b[0m         trial\u001b[38;5;241m=\u001b[39mtrial,\n\u001b[0;32m   2242\u001b[0m         ignore_keys_for_eval\u001b[38;5;241m=\u001b[39mignore_keys_for_eval,\n\u001b[0;32m   2243\u001b[0m     )\n",
      "File \u001b[1;32mC:\\hp\\anaconda3\\Lib\\site-packages\\transformers\\trainer.py:2582\u001b[0m, in \u001b[0;36mTrainer._inner_training_loop\u001b[1;34m(self, batch_size, args, resume_from_checkpoint, trial, ignore_keys_for_eval)\u001b[0m\n\u001b[0;32m   2575\u001b[0m context \u001b[38;5;241m=\u001b[39m (\n\u001b[0;32m   2576\u001b[0m     functools\u001b[38;5;241m.\u001b[39mpartial(\u001b[38;5;28mself\u001b[39m\u001b[38;5;241m.\u001b[39maccelerator\u001b[38;5;241m.\u001b[39mno_sync, model\u001b[38;5;241m=\u001b[39mmodel)\n\u001b[0;32m   2577\u001b[0m     \u001b[38;5;28;01mif\u001b[39;00m i \u001b[38;5;241m!=\u001b[39m \u001b[38;5;28mlen\u001b[39m(batch_samples) \u001b[38;5;241m-\u001b[39m \u001b[38;5;241m1\u001b[39m\n\u001b[0;32m   2578\u001b[0m     \u001b[38;5;129;01mand\u001b[39;00m \u001b[38;5;28mself\u001b[39m\u001b[38;5;241m.\u001b[39maccelerator\u001b[38;5;241m.\u001b[39mdistributed_type \u001b[38;5;241m!=\u001b[39m DistributedType\u001b[38;5;241m.\u001b[39mDEEPSPEED\n\u001b[0;32m   2579\u001b[0m     \u001b[38;5;28;01melse\u001b[39;00m contextlib\u001b[38;5;241m.\u001b[39mnullcontext\n\u001b[0;32m   2580\u001b[0m )\n\u001b[0;32m   2581\u001b[0m \u001b[38;5;28;01mwith\u001b[39;00m context():\n\u001b[1;32m-> 2582\u001b[0m     tr_loss_step \u001b[38;5;241m=\u001b[39m \u001b[38;5;28mself\u001b[39m\u001b[38;5;241m.\u001b[39mtraining_step(model, inputs, num_items_in_batch)\n\u001b[0;32m   2584\u001b[0m \u001b[38;5;28;01mif\u001b[39;00m (\n\u001b[0;32m   2585\u001b[0m     args\u001b[38;5;241m.\u001b[39mlogging_nan_inf_filter\n\u001b[0;32m   2586\u001b[0m     \u001b[38;5;129;01mand\u001b[39;00m \u001b[38;5;129;01mnot\u001b[39;00m is_torch_xla_available()\n\u001b[0;32m   2587\u001b[0m     \u001b[38;5;129;01mand\u001b[39;00m (torch\u001b[38;5;241m.\u001b[39misnan(tr_loss_step) \u001b[38;5;129;01mor\u001b[39;00m torch\u001b[38;5;241m.\u001b[39misinf(tr_loss_step))\n\u001b[0;32m   2588\u001b[0m ):\n\u001b[0;32m   2589\u001b[0m     \u001b[38;5;66;03m# if loss is nan or inf simply add the average of previous logged losses\u001b[39;00m\n\u001b[0;32m   2590\u001b[0m     tr_loss \u001b[38;5;241m=\u001b[39m tr_loss \u001b[38;5;241m+\u001b[39m tr_loss \u001b[38;5;241m/\u001b[39m (\u001b[38;5;241m1\u001b[39m \u001b[38;5;241m+\u001b[39m \u001b[38;5;28mself\u001b[39m\u001b[38;5;241m.\u001b[39mstate\u001b[38;5;241m.\u001b[39mglobal_step \u001b[38;5;241m-\u001b[39m \u001b[38;5;28mself\u001b[39m\u001b[38;5;241m.\u001b[39m_globalstep_last_logged)\n",
      "File \u001b[1;32mC:\\hp\\anaconda3\\Lib\\site-packages\\transformers\\trainer.py:3796\u001b[0m, in \u001b[0;36mTrainer.training_step\u001b[1;34m(self, model, inputs, num_items_in_batch)\u001b[0m\n\u001b[0;32m   3793\u001b[0m     \u001b[38;5;28;01mreturn\u001b[39;00m loss_mb\u001b[38;5;241m.\u001b[39mreduce_mean()\u001b[38;5;241m.\u001b[39mdetach()\u001b[38;5;241m.\u001b[39mto(\u001b[38;5;28mself\u001b[39m\u001b[38;5;241m.\u001b[39margs\u001b[38;5;241m.\u001b[39mdevice)\n\u001b[0;32m   3795\u001b[0m \u001b[38;5;28;01mwith\u001b[39;00m \u001b[38;5;28mself\u001b[39m\u001b[38;5;241m.\u001b[39mcompute_loss_context_manager():\n\u001b[1;32m-> 3796\u001b[0m     loss \u001b[38;5;241m=\u001b[39m \u001b[38;5;28mself\u001b[39m\u001b[38;5;241m.\u001b[39mcompute_loss(model, inputs, num_items_in_batch\u001b[38;5;241m=\u001b[39mnum_items_in_batch)\n\u001b[0;32m   3798\u001b[0m \u001b[38;5;28;01mdel\u001b[39;00m inputs\n\u001b[0;32m   3799\u001b[0m \u001b[38;5;28;01mif\u001b[39;00m (\n\u001b[0;32m   3800\u001b[0m     \u001b[38;5;28mself\u001b[39m\u001b[38;5;241m.\u001b[39margs\u001b[38;5;241m.\u001b[39mtorch_empty_cache_steps \u001b[38;5;129;01mis\u001b[39;00m \u001b[38;5;129;01mnot\u001b[39;00m \u001b[38;5;28;01mNone\u001b[39;00m\n\u001b[0;32m   3801\u001b[0m     \u001b[38;5;129;01mand\u001b[39;00m \u001b[38;5;28mself\u001b[39m\u001b[38;5;241m.\u001b[39mstate\u001b[38;5;241m.\u001b[39mglobal_step \u001b[38;5;241m%\u001b[39m \u001b[38;5;28mself\u001b[39m\u001b[38;5;241m.\u001b[39margs\u001b[38;5;241m.\u001b[39mtorch_empty_cache_steps \u001b[38;5;241m==\u001b[39m \u001b[38;5;241m0\u001b[39m\n\u001b[0;32m   3802\u001b[0m ):\n",
      "\u001b[1;31mTypeError\u001b[0m: WeightedTrainer.compute_loss() got an unexpected keyword argument 'num_items_in_batch'"
     ]
    }
   ],
   "source": [
    "import transformers, os\n",
    "print(\"Transformers:\", transformers.__version__)\n",
    "\n",
    "model = AutoModelForSequenceClassification.from_pretrained(\n",
    "    BASE_MODEL,\n",
    "    num_labels=2,\n",
    "    id2label=id2label,\n",
    "    label2id=label2id\n",
    ")\n",
    "\n",
    "args = TrainingArguments(\n",
    "    output_dir=OUTPUT_DIR,\n",
    "    num_train_epochs=EPOCHS,\n",
    "    per_device_train_batch_size=BATCH_SIZE,\n",
    "    per_device_eval_batch_size=BATCH_SIZE,\n",
    "    learning_rate=LR,\n",
    "    logging_dir=os.path.join(OUTPUT_DIR, \"logs\"),\n",
    "    logging_steps=50\n",
    "    # NOTE: no evaluation_strategy/save_strategy/load_best_model_at_end here\n",
    ")\n",
    "\n",
    "trainer = WeightedTrainer(\n",
    "    model=model,\n",
    "    args=args,\n",
    "    train_dataset=train_ds,\n",
    "    eval_dataset=val_ds,\n",
    "    tokenizer=tokenizer,\n",
    "    compute_metrics=compute_metrics,\n",
    "    class_weights=cw\n",
    ")\n",
    "\n",
    "trainer.train()\n",
    "metrics = trainer.evaluate()\n",
    "metrics\n"
   ]
  },
  {
   "cell_type": "code",
   "execution_count": null,
   "id": "b7cd3ed3-b34d-4750-b9a9-a267eba1bc98",
   "metadata": {},
   "outputs": [],
   "source": [
    "os.makedirs(MODEL_OUT, exist_ok=True)\n",
    "trainer.save_model(MODEL_OUT)\n",
    "tokenizer.save_pretrained(MODEL_OUT)\n",
    "\n",
    "print(\"Saved to:\", MODEL_OUT)\n",
    "\n",
    "from transformers import pipeline\n",
    "clf = pipeline(\"text-classification\", model=MODEL_OUT, tokenizer=MODEL_OUT, device=0 if torch.cuda.is_available() else -1)\n",
    "\n",
    "examples = [\n",
    "    \"તને અહીં જીવવા ન દઈએ\",         # potentially hateful\n",
    "    \"શું હાલ છે? બરાબર?\",           # benign\n",
    "    \"Harami loko ne jawab aapo\",      # potentially hate/abuse\n",
    "]\n",
    "print(clf(examples))\n"
   ]
  },
  {
   "cell_type": "code",
   "execution_count": null,
   "id": "b9c46213-0251-4f44-8aba-42623d96a299",
   "metadata": {},
   "outputs": [],
   "source": []
  }
 ],
 "metadata": {
  "kernelspec": {
   "display_name": "Python 3",
   "language": "python",
   "name": "python3"
  },
  "language_info": {
   "codemirror_mode": {
    "name": "ipython",
    "version": 3
   },
   "file_extension": ".py",
   "mimetype": "text/x-python",
   "name": "python",
   "nbconvert_exporter": "python",
   "pygments_lexer": "ipython3",
   "version": "3.12.7"
  }
 },
 "nbformat": 4,
 "nbformat_minor": 5
}
