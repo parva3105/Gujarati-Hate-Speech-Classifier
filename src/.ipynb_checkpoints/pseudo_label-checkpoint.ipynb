{
 "cells": [
  {
   "cell_type": "code",
   "execution_count": 1,
   "id": "38274db5-a3a7-4376-a560-674c54195538",
   "metadata": {},
   "outputs": [
    {
     "name": "stderr",
     "output_type": "stream",
     "text": [
      "WARNING: Ignoring invalid distribution ~ransformers (C:\\hp\\anaconda3\\Lib\\site-packages)\n",
      "WARNING: Ignoring invalid distribution ~ransformers (C:\\hp\\anaconda3\\Lib\\site-packages)\n",
      "WARNING: Ignoring invalid distribution ~ransformers (C:\\hp\\anaconda3\\Lib\\site-packages)\n"
     ]
    }
   ],
   "source": [
    "!pip install -q torch datasets transformers pandas"
   ]
  },
  {
   "cell_type": "code",
   "execution_count": 2,
   "id": "e8d6bb70-8e2f-4137-b798-9899a0a8190d",
   "metadata": {},
   "outputs": [
    {
     "name": "stdout",
     "output_type": "stream",
     "text": [
      "Config OK.\n"
     ]
    }
   ],
   "source": [
    "import os\n",
    "import pandas as pd\n",
    "import torch\n",
    "from transformers import AutoTokenizer, AutoModelForSequenceClassification\n",
    "\n",
    "# -------- CONFIG --------\n",
    "MODEL_PATH      = \"../outputs/initial/model\"     # make sure train_initial ran\n",
    "UNLABELED_PATH  = \"../data/unlabeled_pool.csv\"\n",
    "LABELED_PATHS   = [\"../data/seed_labels.csv\", \"../data/expanded_seed.csv\", \"../data/uncertain_labels.csv\"]\n",
    "OUT_PATH        = \"../data/pseudo_labels.csv\"\n",
    "\n",
    "CONF_THRESHOLD  = 0.80     # lower if you get 0 rows\n",
    "TOP_K_MIN       = 50       # fallback: keep at least this many\n",
    "BATCH_SIZE      = 64\n",
    "MAX_POOL        = 1000     # set to None to use full pool\n",
    "MAX_LENGTH      = 128\n",
    "SEED            = 42\n",
    "# ------------------------\n",
    "\n",
    "torch.manual_seed(SEED)\n",
    "print(\"Config OK.\")\n"
   ]
  },
  {
   "cell_type": "code",
   "execution_count": 3,
   "id": "2799bdfb-746d-4149-a1a9-a0ff13e21410",
   "metadata": {},
   "outputs": [
    {
     "name": "stdout",
     "output_type": "stream",
     "text": [
      "Using device: cpu\n"
     ]
    }
   ],
   "source": [
    "tokenizer = AutoTokenizer.from_pretrained(MODEL_PATH)\n",
    "model     = AutoModelForSequenceClassification.from_pretrained(MODEL_PATH)\n",
    "\n",
    "device = torch.device(\"cuda\" if torch.cuda.is_available() else \"cpu\")\n",
    "model.to(device).eval()\n",
    "print(\"Using device:\", device)\n"
   ]
  },
  {
   "cell_type": "code",
   "execution_count": 4,
   "id": "b666c47a-d365-49e7-acf4-139affa34e6d",
   "metadata": {},
   "outputs": [
    {
     "name": "stdout",
     "output_type": "stream",
     "text": [
      "Known labeled examples: 398\n"
     ]
    }
   ],
   "source": [
    "labeled_texts = set()\n",
    "for p in LABELED_PATHS:\n",
    "    if os.path.exists(p):\n",
    "        df_l = pd.read_csv(p)\n",
    "        if \"text\" in df_l.columns:\n",
    "            labeled_texts.update(df_l[\"text\"].dropna().astype(str).tolist())\n",
    "print(\"Known labeled examples:\", len(labeled_texts))\n"
   ]
  },
  {
   "cell_type": "code",
   "execution_count": 5,
   "id": "1257ab0c-3606-4278-b4b1-c1e6271f7e14",
   "metadata": {},
   "outputs": [
    {
     "name": "stdout",
     "output_type": "stream",
     "text": [
      "Unlabeled candidates after exclusions: 1000\n"
     ]
    },
    {
     "data": {
      "text/html": [
       "<div>\n",
       "<style scoped>\n",
       "    .dataframe tbody tr th:only-of-type {\n",
       "        vertical-align: middle;\n",
       "    }\n",
       "\n",
       "    .dataframe tbody tr th {\n",
       "        vertical-align: top;\n",
       "    }\n",
       "\n",
       "    .dataframe thead th {\n",
       "        text-align: right;\n",
       "    }\n",
       "</style>\n",
       "<table border=\"1\" class=\"dataframe\">\n",
       "  <thead>\n",
       "    <tr style=\"text-align: right;\">\n",
       "      <th></th>\n",
       "      <th>text</th>\n",
       "    </tr>\n",
       "  </thead>\n",
       "  <tbody>\n",
       "    <tr>\n",
       "      <th>0</th>\n",
       "      <td>Very Bad Vedio</td>\n",
       "    </tr>\n",
       "    <tr>\n",
       "      <th>1</th>\n",
       "      <td>હિંમતવાન શાબાશ રોનકભાઈ</td>\n",
       "    </tr>\n",
       "    <tr>\n",
       "      <th>2</th>\n",
       "      <td>જે કલાકારો નું સન્માન થયું એ ભાજપના ઈસારે નાચવ...</td>\n",
       "    </tr>\n",
       "  </tbody>\n",
       "</table>\n",
       "</div>"
      ],
      "text/plain": [
       "                                                text\n",
       "0                                     Very Bad Vedio\n",
       "1                             હિંમતવાન શાબાશ રોનકભાઈ\n",
       "2  જે કલાકારો નું સન્માન થયું એ ભાજપના ઈસારે નાચવ..."
      ]
     },
     "execution_count": 5,
     "metadata": {},
     "output_type": "execute_result"
    }
   ],
   "source": [
    "df_u = pd.read_csv(UNLABELED_PATH)\n",
    "df_u = df_u[df_u[\"text\"].notna()].copy()\n",
    "df_u[\"text\"] = df_u[\"text\"].astype(str)\n",
    "\n",
    "# Exclude anything already labeled; drop exact dupes\n",
    "df_u = df_u[~df_u[\"text\"].isin(labeled_texts)].drop_duplicates(\"text\").reset_index(drop=True)\n",
    "\n",
    "# Optional chunking to keep size reasonable\n",
    "if MAX_POOL and len(df_u) > MAX_POOL:\n",
    "    df_u = df_u.sample(n=MAX_POOL, random_state=SEED).reset_index(drop=True)\n",
    "\n",
    "print(f\"Unlabeled candidates after exclusions: {len(df_u)}\")\n",
    "df_u.head(3)\n"
   ]
  },
  {
   "cell_type": "code",
   "execution_count": 6,
   "id": "3ef7a37e-afaa-4b64-a2a9-925246b61933",
   "metadata": {},
   "outputs": [
    {
     "name": "stdout",
     "output_type": "stream",
     "text": [
      "Predict helper ready.\n"
     ]
    }
   ],
   "source": [
    "@torch.no_grad()\n",
    "def predict_batch(texts):\n",
    "    labels, confs = [], []\n",
    "    for i in range(0, len(texts), BATCH_SIZE):\n",
    "        batch = texts[i:i+BATCH_SIZE]\n",
    "        enc = tokenizer(\n",
    "            batch,\n",
    "            padding=True,\n",
    "            truncation=True,\n",
    "            max_length=MAX_LENGTH,\n",
    "            return_tensors=\"pt\"\n",
    "        ).to(device)\n",
    "        out   = model(**enc)\n",
    "        probs = torch.softmax(out.logits, dim=1)\n",
    "        maxp, preds = probs.max(dim=1)\n",
    "        labels.extend(preds.cpu().tolist())\n",
    "        confs.extend(maxp.cpu().tolist())\n",
    "    return labels, confs\n",
    "\n",
    "print(\"Predict helper ready.\")\n"
   ]
  },
  {
   "cell_type": "code",
   "execution_count": 7,
   "id": "ba104d35-0aab-41ce-bf37-a4a90551cf2d",
   "metadata": {},
   "outputs": [
    {
     "name": "stdout",
     "output_type": "stream",
     "text": [
      "✅ Saved 50 pseudo-labels to ../data/pseudo_labels.csv (threshold=0.8, pool=1000)\n",
      "Class counts: {1: 50}\n"
     ]
    }
   ],
   "source": [
    "if len(df_u) == 0:\n",
    "    pd.DataFrame(columns=[\"text\",\"label\"]).to_csv(OUT_PATH, index=False, encoding=\"utf-8\")\n",
    "    print(\"No eligible examples to pseudo-label.\")\n",
    "else:\n",
    "    texts = df_u[\"text\"].tolist()\n",
    "    labels, confs = predict_batch(texts)\n",
    "    df_pl = pd.DataFrame({\"text\": texts, \"label\": labels, \"conf\": confs})\n",
    "\n",
    "    # Threshold first\n",
    "    df_high = df_pl[df_pl[\"conf\"] >= CONF_THRESHOLD].copy()\n",
    "\n",
    "    # Fallback to top-K if too few\n",
    "    if len(df_high) < TOP_K_MIN:\n",
    "        df_high = df_pl.sort_values(\"conf\", ascending=False).head(TOP_K_MIN).copy()\n",
    "\n",
    "    # Save without the conf column\n",
    "    df_high[[\"text\",\"label\"]].to_csv(OUT_PATH, index=False, encoding=\"utf-8\")\n",
    "\n",
    "    print(f\"✅ Saved {len(df_high)} pseudo-labels to {OUT_PATH} \"\n",
    "          f\"(threshold={CONF_THRESHOLD}, pool={len(df_u)})\")\n",
    "    print(\"Class counts:\", df_high[\"label\"].value_counts().to_dict())\n"
   ]
  },
  {
   "cell_type": "code",
   "execution_count": 8,
   "id": "1abda16f-6fa3-4c45-b6fb-44542e54fae3",
   "metadata": {},
   "outputs": [
    {
     "name": "stdout",
     "output_type": "stream",
     "text": [
      "(50, 2)\n"
     ]
    },
    {
     "data": {
      "text/html": [
       "<div>\n",
       "<style scoped>\n",
       "    .dataframe tbody tr th:only-of-type {\n",
       "        vertical-align: middle;\n",
       "    }\n",
       "\n",
       "    .dataframe tbody tr th {\n",
       "        vertical-align: top;\n",
       "    }\n",
       "\n",
       "    .dataframe thead th {\n",
       "        text-align: right;\n",
       "    }\n",
       "</style>\n",
       "<table border=\"1\" class=\"dataframe\">\n",
       "  <thead>\n",
       "    <tr style=\"text-align: right;\">\n",
       "      <th></th>\n",
       "      <th>text</th>\n",
       "      <th>label</th>\n",
       "    </tr>\n",
       "  </thead>\n",
       "  <tbody>\n",
       "    <tr>\n",
       "      <th>0</th>\n",
       "      <td>Rajakot ma tamara samaj ni dikari upar najar b...</td>\n",
       "      <td>1</td>\n",
       "    </tr>\n",
       "    <tr>\n",
       "      <th>1</th>\n",
       "      <td>Gunatinanade jo jalaram ne ashirvad aapya hoy ...</td>\n",
       "      <td>1</td>\n",
       "    </tr>\n",
       "    <tr>\n",
       "      <th>2</th>\n",
       "      <td>Kem aaje Ronak Bhai ma utsah no abhav dekhay c...</td>\n",
       "      <td>1</td>\n",
       "    </tr>\n",
       "    <tr>\n",
       "      <th>3</th>\n",
       "      <td>Mahadeve jer pithi e vathat e samaya hato a sa...</td>\n",
       "      <td>1</td>\n",
       "    </tr>\n",
       "    <tr>\n",
       "      <th>4</th>\n",
       "      <td>Modiji  hai to tenson kaya hai bhro n bil sark...</td>\n",
       "      <td>1</td>\n",
       "    </tr>\n",
       "  </tbody>\n",
       "</table>\n",
       "</div>"
      ],
      "text/plain": [
       "                                                text  label\n",
       "0  Rajakot ma tamara samaj ni dikari upar najar b...      1\n",
       "1  Gunatinanade jo jalaram ne ashirvad aapya hoy ...      1\n",
       "2  Kem aaje Ronak Bhai ma utsah no abhav dekhay c...      1\n",
       "3  Mahadeve jer pithi e vathat e samaya hato a sa...      1\n",
       "4  Modiji  hai to tenson kaya hai bhro n bil sark...      1"
      ]
     },
     "execution_count": 8,
     "metadata": {},
     "output_type": "execute_result"
    }
   ],
   "source": [
    "peek = pd.read_csv(OUT_PATH)\n",
    "print(peek.shape)\n",
    "peek.head(5)\n"
   ]
  }
 ],
 "metadata": {
  "kernelspec": {
   "display_name": "Python 3",
   "language": "python",
   "name": "python3"
  },
  "language_info": {
   "codemirror_mode": {
    "name": "ipython",
    "version": 3
   },
   "file_extension": ".py",
   "mimetype": "text/x-python",
   "name": "python",
   "nbconvert_exporter": "python",
   "pygments_lexer": "ipython3",
   "version": "3.12.7"
  }
 },
 "nbformat": 4,
 "nbformat_minor": 5
}
