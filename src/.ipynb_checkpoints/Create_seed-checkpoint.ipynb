{
 "cells": [
  {
   "cell_type": "code",
   "execution_count": 9,
   "id": "1e9c844e-de1e-451c-8635-13a11693e89c",
   "metadata": {},
   "outputs": [
    {
     "name": "stdout",
     "output_type": "stream",
     "text": [
      "✅ Saved 200 examples to data/seed_to_label.csv\n"
     ]
    }
   ],
   "source": [
    "#!/usr/bin/env python3\n",
    "import pandas as pd\n",
    "\n",
    "def main():\n",
    "    # 1. Read raw comments. Your file already has a header row \"text,label\",\n",
    "    #    so let pandas infer that and then pick the 'text' column.\n",
    "    df = pd.read_csv(\n",
    "        'data/comments.csv',       # <-- your file already has a header\n",
    "        usecols=['text'],          # only load the text column\n",
    "        encoding='utf-8'\n",
    "    )\n",
    "\n",
    "    # 2. Sample 200 rows for labeling\n",
    "    seed_df = df.sample(n=200, random_state=42)\n",
    "\n",
    "    # sanity check\n",
    "    print(\"Here are your first few samples:\")\n",
    "    print(seed_df.head())\n",
    "\n",
    "    # 3. Save them for manual labeling\n",
    "    seed_df.to_csv(\n",
    "        'data/seed_to_label.csv',  # this will now contain actual text\n",
    "        index=False,\n",
    "        encoding='utf-8'\n",
    "    )\n",
    "    print(f\"✅ Saved {len(seed_df)} examples to data/seed_to_label.csv\")\n",
    "\n",
    "if __name__ == '__main__':\n",
    "    main()\n"
   ]
  },
  {
   "cell_type": "code",
   "execution_count": null,
   "id": "7c96e7ac-36cb-431a-a9ee-0e7943143cee",
   "metadata": {},
   "outputs": [],
   "source": []
  }
 ],
 "metadata": {
  "kernelspec": {
   "display_name": "Python 3",
   "language": "python",
   "name": "python3"
  },
  "language_info": {
   "codemirror_mode": {
    "name": "ipython",
    "version": 3
   },
   "file_extension": ".py",
   "mimetype": "text/x-python",
   "name": "python",
   "nbconvert_exporter": "python",
   "pygments_lexer": "ipython3",
   "version": "3.12.7"
  }
 },
 "nbformat": 4,
 "nbformat_minor": 5
}
